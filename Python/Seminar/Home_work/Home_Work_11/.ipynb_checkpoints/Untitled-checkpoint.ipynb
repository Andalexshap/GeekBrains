{
 "cells": [
  {
   "cell_type": "code",
   "execution_count": null,
   "id": "5ee9e5da",
   "metadata": {},
   "outputs": [],
   "source": [
    "/*f(x) = -12*x**4*sin(cos(x)) - 18*x**3+5*x**2 + 10*x - 30\n",
    "\n",
    "Определить корни\n",
    "\n",
    "Найти интервалы, на которых функция возрастает\n",
    "\n",
    "Найти интервалы, на которых функция убывает\n",
    "\n",
    "Построить график\n",
    "\n",
    "Вычислить вершину\n",
    "\n",
    "Определить промежутки, на котором f > 0\n",
    "\n",
    "Определить промежутки, на котором f < 0\n"
   ]
  },
  {
   "cell_type": "code",
   "execution_count": 1,
   "id": "b3d76a29",
   "metadata": {},
   "outputs": [],
   "source": [
    "from numpy import sin, cos, arange\n",
    "from scipy.optimize import fsolve\n",
    "import matplotlib.pyplot as plt"
   ]
  },
  {
   "cell_type": "code",
   "execution_count": 2,
   "id": "7bd0248f",
   "metadata": {},
   "outputs": [],
   "source": [
    "minimum = -30\n",
    "maximum = 30"
   ]
  },
  {
   "cell_type": "code",
   "execution_count": 3,
   "id": "8ff1f95f",
   "metadata": {},
   "outputs": [],
   "source": [
    "# График функции при помощи библиотеки matplotlib:"
   ]
  },
  {
   "cell_type": "code",
   "execution_count": 4,
   "id": "8d567f1b",
   "metadata": {},
   "outputs": [],
   "source": [
    "def func(x):\n",
    "    return -12*x**4*(sin(cos(x))) -18*x**3+5*x**2 + 10*x - 30"
   ]
  },
  {
   "cell_type": "code",
   "execution_count": 5,
   "id": "6cdbbb90",
   "metadata": {},
   "outputs": [
    {
     "data": {
      "image/png": "[encoded data removed]",
      "text/plain": [
       "<Figure size 640x480 with 1 Axes>"
      ]
     },
     "metadata": {},
     "output_type": "display_data"
    }
   ],
   "source": [
    "x = arange(minimum, maximum, 0.1)\n",
    "plt.plot(x, func(x), \"r-\")\n",
    "plt.grid()\n",
    "plt.show()"
   ]
  },
  {
   "cell_type": "code",
   "execution_count": 6,
   "id": "f71f5263",
   "metadata": {},
   "outputs": [],
   "source": [
    "# Определить корни"
   ]
  },
  {
   "cell_type": "code",
   "execution_count": 7,
   "id": "eced1238",
   "metadata": {},
   "outputs": [],
   "source": [
    "def f(x):\n",
    "    return -12 * x ** 4 * sin(cos(x)) - 18 * x ** 3 + 5 * x ** 2 + 10 * x - 30"
   ]
  },
  {
   "cell_type": "code",
   "execution_count": 8,
   "id": "d4f88e46",
   "metadata": {},
   "outputs": [],
   "source": [
    "# Это тригонометрическая функция, имеющая бесконечное количество корней.\n",
    "# Можно определить корни только на заданном интервале."
   ]
  },
  {
   "cell_type": "code",
   "execution_count": 9,
   "id": "54174071",
   "metadata": {},
   "outputs": [],
   "source": [
    "def find_sqrt():\n",
    "    global minimum, maximum\n",
    "    temp = minimum\n",
    "    rightnum = maximum\n",
    "    roots = []\n",
    "    interval = []\n",
    "\n",
    "    while temp < rightnum:\n",
    "        if f(temp) >= 0 and f(temp + 1) <= 0:\n",
    "            w = fsolve(f, temp)\n",
    "            roots.append(*w)\n",
    "        if f(temp) <= 0 and f(temp + 1) >= 0:\n",
    "            w = fsolve(f, temp)\n",
    "            roots.append(*w)\n",
    "        if f(temp) > f(temp + 1) < f(temp + 2):\n",
    "            interval.append(temp + 1)\n",
    "        temp += 1\n",
    "    roots = [round(i, 2) for i in roots]\n",
    "    print(f'Корни уравнения для заданного интервала: {roots}')\n",
    "    return roots"
   ]
  },
  {
   "cell_type": "code",
   "execution_count": 10,
   "id": "660f968a",
   "metadata": {},
   "outputs": [],
   "source": [
    "# Определить промежутки, на которых f>0 и f<0:"
   ]
  },
  {
   "cell_type": "code",
   "execution_count": 11,
   "id": "8575b2d2",
   "metadata": {},
   "outputs": [],
   "source": [
    "def func_interval(left, right):\n",
    "    array = [[0,0]]\n",
    "    temp = left\n",
    "    while left < right:\n",
    "        array.append([f(left), left])\n",
    "        left += 0.1\n",
    "    try:\n",
    "        if array[0][0] > 0:\n",
    "            print(f'f > 0 в промежутке {temp, right}')\n",
    "            return max(array)\n",
    "        else:\n",
    "            print(f'f < 0 в промежутке {temp, right}')\n",
    "            return min(array)\n",
    "    except:\n",
    "        return array"
   ]
  },
  {
   "cell_type": "code",
   "execution_count": 12,
   "id": "e4152662",
   "metadata": {},
   "outputs": [],
   "source": [
    "# Вычисляем координаты вершины функции на заданном интервале:"
   ]
  },
  {
   "cell_type": "code",
   "execution_count": 13,
   "id": "05e667cc",
   "metadata": {},
   "outputs": [],
   "source": [
    "def maxima_and_minima():\n",
    "    roots = find_sqrt()\n",
    "\n",
    "    if len(roots) < 2:\n",
    "        print('На заданном интервале нет вершин')\n",
    "    else:\n",
    "        top = []\n",
    "        for i in range(len(roots) - 1):\n",
    "            top.append(func_interval(roots[i], roots[i + 1]))\n",
    "        for j in top:\n",
    "            j = [round(i, 2) for i in j]\n",
    "            print(f'Координаты вершин функции: [{j[1]}, {j[0]}]')\n",
    "        if len(top) < 2:\n",
    "            print('error')\n",
    "        else:\n",
    "            for i in range(len(top) - 1):\n",
    "                if top[i][0] > top[i + 1][0]:\n",
    "                    print('Функция убывает')\n",
    "                else:\n",
    "                    print('Функция возрастает')"
   ]
  },
  {
   "cell_type": "code",
   "execution_count": 14,
   "id": "f40f6378",
   "metadata": {},
   "outputs": [
    {
     "name": "stdout",
     "output_type": "stream",
     "text": [
      "Корни уравнения для заданного интервала: [-29.9, -26.65, -23.63, -20.35, -17.37, -14.03, -11.13, -7.65, -5.03, -1.34, 2.27, 4.38, 8.04, 8.04, 14.24, 17.19, 20.49, 23.5, 26.76, 29.8]\n",
      "f < 0 в промежутке (-29.9, -26.65)\n",
      "f < 0 в промежутке (-26.65, -23.63)\n",
      "f < 0 в промежутке (-23.63, -20.35)\n",
      "f < 0 в промежутке (-20.35, -17.37)\n",
      "f < 0 в промежутке (-17.37, -14.03)\n",
      "f < 0 в промежутке (-14.03, -11.13)\n",
      "f < 0 в промежутке (-11.13, -7.65)\n",
      "f < 0 в промежутке (-7.65, -5.03)\n",
      "f < 0 в промежутке (-5.03, -1.34)\n",
      "f < 0 в промежутке (-1.34, 2.27)\n",
      "f < 0 в промежутке (2.27, 4.38)\n",
      "f < 0 в промежутке (4.38, 8.04)\n",
      "f < 0 в промежутке (8.04, 8.04)\n",
      "f < 0 в промежутке (8.04, 14.24)\n",
      "f < 0 в промежутке (14.24, 17.19)\n",
      "f < 0 в промежутке (17.19, 20.49)\n",
      "f < 0 в промежутке (20.49, 23.5)\n",
      "f < 0 в промежутке (23.5, 26.76)\n",
      "f < 0 в промежутке (26.76, 29.8)\n",
      "Координаты вершин функции: [-29.9, -40433.83]\n",
      "Координаты вершин функции: [-25.35, -3809716.07]\n",
      "Координаты вершин функции: [-23.63, -14204.35]\n",
      "Координаты вершин функции: [-19.15, -1189557.14]\n",
      "Координаты вершин функции: [-17.37, -3755.17]\n",
      "Координаты вершин функции: [-12.93, -230205.65]\n",
      "Координаты вершин функции: [0, 0]\n",
      "Координаты вершин функции: [-6.85, -13815.93]\n",
      "Координаты вершин функции: [-5.03, -23.2]\n",
      "Координаты вершин функции: [1.66, -73.85]\n",
      "Координаты вершин функции: [2.27, -0.88]\n",
      "Координаты вершин функции: [6.98, -25602.95]\n",
      "Координаты вершин функции: [0, 0]\n",
      "Координаты вершин функции: [13.04, -308564.19]\n",
      "Координаты вершин функции: [14.24, -287.55]\n",
      "Координаты вершин функции: [19.19, -1441877.26]\n",
      "Координаты вершин функции: [20.49, -5491.06]\n",
      "Координаты вершин функции: [25.4, -4396041.47]\n",
      "Координаты вершин функции: [0, 0]\n",
      "Функция убывает\n",
      "Функция возрастает\n",
      "Функция убывает\n",
      "Функция возрастает\n",
      "Функция убывает\n",
      "Функция возрастает\n",
      "Функция убывает\n",
      "Функция возрастает\n",
      "Функция убывает\n",
      "Функция возрастает\n",
      "Функция убывает\n",
      "Функция возрастает\n",
      "Функция убывает\n",
      "Функция возрастает\n",
      "Функция убывает\n",
      "Функция возрастает\n",
      "Функция убывает\n",
      "Функция возрастает\n"
     ]
    }
   ],
   "source": [
    "maxima_and_minima()"
   ]
  },
  {
   "cell_type": "code",
   "execution_count": null,
   "id": "670aa240",
   "metadata": {},
   "outputs": [],
   "source": []
  }
 ],
 "metadata": {
  "kernelspec": {
   "display_name": "Python 3 (ipykernel)",
   "language": "python",
   "name": "python3"
  },
  "language_info": {
   "codemirror_mode": {
    "name": "ipython",
    "version": 3
   },
   "file_extension": ".py",
   "mimetype": "text/x-python",
   "name": "python",
   "nbconvert_exporter": "python",
   "pygments_lexer": "ipython3",
   "version": "3.11.1"
  }
 },
 "nbformat": 4,
 "nbformat_minor": 5
}
